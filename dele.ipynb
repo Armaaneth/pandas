{
 "cells": [
  {
   "cell_type": "markdown",
   "metadata": {},
   "source": [
    "Cleaning Data using DROPNA AND FILLNA METHODS\n",
    "Using dropna and fillna attributes\n",
    "=> Inplace\n",
    "=> Axis\n",
    "=> Thresh"
   ]
  },
  {
   "cell_type": "code",
   "execution_count": 1,
   "metadata": {},
   "outputs": [],
   "source": [
    "import pandas as pd\n",
    "import numpy as np"
   ]
  },
  {
   "cell_type": "code",
   "execution_count": 2,
   "metadata": {},
   "outputs": [
    {
     "name": "stdout",
     "output_type": "stream",
     "text": [
      "<class 'pandas.core.frame.DataFrame'>\n",
      "RangeIndex: 1007 entries, 0 to 1006\n",
      "Data columns (total 8 columns):\n",
      " #   Column                   Non-Null Count  Dtype \n",
      "---  ------                   --------------  ----- \n",
      " 0   Car Make                 1007 non-null   object\n",
      " 1   Car Model                1007 non-null   object\n",
      " 2   Year                     1007 non-null   int64 \n",
      " 3   Engine Size (L)          997 non-null    object\n",
      " 4   Horsepower               1007 non-null   object\n",
      " 5   Torque (lb-ft)           1004 non-null   object\n",
      " 6   0-60 MPH Time (seconds)  1007 non-null   object\n",
      " 7   Price (in USD)           1007 non-null   object\n",
      "dtypes: int64(1), object(7)\n",
      "memory usage: 63.1+ KB\n",
      "None\n"
     ]
    }
   ],
   "source": [
    "chi = pd.read_csv(\"./datasets/Sport car price.csv\")\n",
    "print(chi.info())"
   ]
  },
  {
   "cell_type": "code",
   "execution_count": 11,
   "metadata": {},
   "outputs": [
    {
     "name": "stdout",
     "output_type": "stream",
     "text": [
      "         Car Make Car Model  Year Engine Size (L) Horsepower Torque (lb-ft)  \\\n",
      "0         Porsche       911  2022               3        379            331   \n",
      "1     Lamborghini   Huracan  2021             5.2        630            443   \n",
      "2         Ferrari   488 GTB  2022             3.9        661            561   \n",
      "3            Audi        R8  2022             5.2        562            406   \n",
      "4         McLaren      720S  2021               4        710            568   \n",
      "...           ...       ...   ...             ...        ...            ...   \n",
      "1002   Koenigsegg     Jesko  2022               5       1280           1106   \n",
      "1003        Lotus     Evija  2021  Electric Motor       1972           1254   \n",
      "1004      McLaren     Senna  2021               4        789            590   \n",
      "1005       Pagani    Huayra  2021               6        764            738   \n",
      "1006        Rimac    Nevera  2021  Electric Motor       1888           1696   \n",
      "\n",
      "     0-60 MPH Time (seconds) Price (in USD)  \n",
      "0                          4        101,200  \n",
      "1                        2.8        274,390  \n",
      "2                          3        333,750  \n",
      "3                        3.2        142,700  \n",
      "4                        2.7        298,000  \n",
      "...                      ...            ...  \n",
      "1002                     2.5      3,000,000  \n",
      "1003                       2      2,000,000  \n",
      "1004                     2.7      1,000,000  \n",
      "1005                       3      2,600,000  \n",
      "1006                    1.85      2,400,000  \n",
      "\n",
      "[1007 rows x 8 columns]\n",
      "None\n",
      "         Car Make Car Model  Year Engine Size (L) Horsepower Torque (lb-ft)  \\\n",
      "0         Porsche       911  2022               3        379            331   \n",
      "1     Lamborghini   Huracan  2021             5.2        630            443   \n",
      "2         Ferrari   488 GTB  2022             3.9        661            561   \n",
      "3            Audi        R8  2022             5.2        562            406   \n",
      "4         McLaren      720S  2021               4        710            568   \n",
      "...           ...       ...   ...             ...        ...            ...   \n",
      "1002   Koenigsegg     Jesko  2022               5       1280           1106   \n",
      "1003        Lotus     Evija  2021  Electric Motor       1972           1254   \n",
      "1004      McLaren     Senna  2021               4        789            590   \n",
      "1005       Pagani    Huayra  2021               6        764            738   \n",
      "1006        Rimac    Nevera  2021  Electric Motor       1888           1696   \n",
      "\n",
      "     0-60 MPH Time (seconds) Price (in USD)  \n",
      "0                          4        101,200  \n",
      "1                        2.8        274,390  \n",
      "2                          3        333,750  \n",
      "3                        3.2        142,700  \n",
      "4                        2.7        298,000  \n",
      "...                      ...            ...  \n",
      "1002                     2.5      3,000,000  \n",
      "1003                       2      2,000,000  \n",
      "1004                     2.7      1,000,000  \n",
      "1005                       3      2,600,000  \n",
      "1006                    1.85      2,400,000  \n",
      "\n",
      "[995 rows x 8 columns]\n"
     ]
    }
   ],
   "source": [
    "chi_frame = pd.DataFrame(chi)\n",
    "chi2_frame = pd.DataFrame(chi)\n",
    "# print(chi_frame.head(5))\n",
    "# print(chi_frame.info())\n",
    "\n",
    "# print(chi_frame.dropna().info())\n",
    "print(chi2_frame)\n",
    "\n",
    "print(chi2_frame.dropna(inplace=True))\n",
    "print(chi2_frame)\n"
   ]
  },
  {
   "cell_type": "code",
   "execution_count": 18,
   "metadata": {},
   "outputs": [
    {
     "name": "stdout",
     "output_type": "stream",
     "text": [
      "     1    2  3    4\n",
      "0  1.0  5.0  1  9.0\n",
      "1  2.0  4.0  2  NaN\n",
      "2  NaN  NaN  3  8.0\n"
     ]
    }
   ],
   "source": [
    "candid = pd.read_csv(\"./datasets/Sport car price1.csv\")\n",
    "candid_frame = pd.DataFrame(candid)\n",
    "# print(candid_frame)\n",
    "\n",
    "# Cleaning via columns\n",
    "clean_candid_data = candid_frame.dropna(axis=1)\n",
    "# print(clean_candid_data)\n",
    "\n",
    "data = {\n",
    "    \"1\": [1, 2, np.nan],\n",
    "    \"2\": [5, 4, np.nan],\n",
    "    \"3\": [1, 2, 3],\n",
    "    \"4\": [9, np.nan, 8]\n",
    "}\n",
    "\n",
    "data_frame = pd.DataFrame(data)\n",
    "print(data_frame)\n",
    "\n",
    "clean_dataframe = data_frame.dropna(thresh=1) "
   ]
  },
  {
   "cell_type": "code",
   "execution_count": 22,
   "metadata": {},
   "outputs": [
    {
     "name": "stdout",
     "output_type": "stream",
     "text": [
      "None\n",
      "              1             2  3             4\n",
      "0           1.0           5.0  1           9.0\n",
      "1           2.0           4.0  2  Value Filled\n",
      "2  Value Filled  Value Filled  3           8.0\n"
     ]
    }
   ],
   "source": [
    "data = {\n",
    "    \"1\": [1, 2, np.nan],\n",
    "    \"2\": [5, 4, np.nan],\n",
    "    \"3\": [1, 2, 3],\n",
    "    \"4\": [9, np.nan, 8]\n",
    "}\n",
    "\n",
    "candid_framy = pd.DataFrame(data)\n",
    "\n",
    "print(candid_framy.fillna(\"Value Filled\", inplace=True))\n",
    "print(candid_framy)"
   ]
  },
  {
   "cell_type": "code",
   "execution_count": null,
   "metadata": {},
   "outputs": [],
   "source": []
  }
 ],
 "metadata": {
  "kernelspec": {
   "display_name": "base",
   "language": "python",
   "name": "python3"
  },
  "language_info": {
   "codemirror_mode": {
    "name": "ipython",
    "version": 3
   },
   "file_extension": ".py",
   "mimetype": "text/x-python",
   "name": "python",
   "nbconvert_exporter": "python",
   "pygments_lexer": "ipython3",
   "version": "3.11.5"
  }
 },
 "nbformat": 4,
 "nbformat_minor": 2
}
